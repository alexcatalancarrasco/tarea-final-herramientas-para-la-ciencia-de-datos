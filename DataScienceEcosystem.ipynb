{
 "cells": [
  {
   "cell_type": "markdown",
   "id": "44aa56d1-761e-4149-8ae5-ffbc7e20b5b4",
   "metadata": {},
   "source": [
    "# Data Science Tools and Ecosystem"
   ]
  },
  {
   "cell_type": "markdown",
   "id": "cecacb5c-3690-4a38-bfd3-4b7d4378fde6",
   "metadata": {},
   "source": [
    "In this notebook, Data Science Tools and Ecosystem are summarized."
   ]
  },
  {
   "cell_type": "markdown",
   "id": "9cdfab2f-b4fd-4147-8340-a27c17c9b087",
   "metadata": {},
   "source": [
    "<p><b>Objectives:</b></p>\n",
    "<ul>\n",
    "    <li>List popular languages for Data Science</li>\n",
    "    <li>List of libraries commonly used by data scientists</li>\n",
    "    <li>Evaluating arithmetic expressions in Python</li>\n",
    "</ul>"
   ]
  },
  {
   "cell_type": "markdown",
   "id": "9bf48970-e5b7-4d5e-b67e-35767438be6d",
   "metadata": {},
   "source": [
    "## Some of the popular languages that Data Scientists use are:\n",
    "1. Python\n",
    "2. SQL\n",
    "3. R\n",
    "4. Java"
   ]
  },
  {
   "cell_type": "markdown",
   "id": "414e38e2-68a8-4b0c-a1be-feba6529b2d1",
   "metadata": {},
   "source": [
    "## Some of the commonly used libraries used by Data Scientists include:\n",
    "1. Numpy\n",
    "2. Pandas\n",
    "3. Scikit-learn\n",
    "4. Matplob\n"
   ]
  },
  {
   "cell_type": "markdown",
   "id": "704a7a82-aece-42da-bb09-7e95331d9ba4",
   "metadata": {},
   "source": [
    "<table>\n",
    "    <tr>\n",
    "        <th>Data Science Tools</th>\n",
    "    </tr>\n",
    "    <tr>\n",
    "        <td>MySQL</td>\n",
    "    <tr>\n",
    "        <td>Hadoop</td>\n",
    "    </tr>\n",
    "    <tr>\n",
    "        <td>Jupyter</td>\n",
    "    </tr>\n",
    "</table>"
   ]
  },
  {
   "cell_type": "markdown",
   "id": "539aaadd-6ad7-407d-a8b0-1bb154b7c351",
   "metadata": {},
   "source": [
    "<h3>Below are a few examples of evaluating arithmetic expressions in Python.</h3>"
   ]
  },
  {
   "cell_type": "code",
   "execution_count": 11,
   "id": "48387181-ba21-4894-88f2-342c50058111",
   "metadata": {},
   "outputs": [
    {
     "name": "stdout",
     "output_type": "stream",
     "text": [
      "Ej 1: Resultado de '3 + 5 * (2 - 1)': 8\n",
      "Ej 2: Resultado de '2,5 * (45/100)': (2, 2.25)\n",
      "Ej 3: Resultado de '1 - 2 ** 5': -31\n"
     ]
    }
   ],
   "source": [
    "# Expresiones aritméticas\n",
    "expresion1 = \"3 + 5 * (2 - 1)\"\n",
    "expresion2 = \"2,5 * (45/100)\"\n",
    "expresion3 = \"1 - 2 ** 5\"\n",
    "\n",
    "# Evaluar las expresiones\n",
    "resultado1 = eval(expresion1)\n",
    "resultado2 = eval(expresion2)\n",
    "resultado3 = eval(expresion3)\n",
    "\n",
    "# Mostrar los resultados\n",
    "print(f\"Ej 1: Resultado de '{expresion1}': {resultado1}\")\n",
    "print(f\"Ej 2: Resultado de '{expresion2}': {resultado2}\")\n",
    "print(f\"Ej 3: Resultado de '{expresion3}': {resultado3}\")"
   ]
  },
  {
   "cell_type": "code",
   "execution_count": 1,
   "id": "4910f799-aabc-4f65-b047-4c90516be498",
   "metadata": {},
   "outputs": [
    {
     "data": {
      "text/plain": [
       "17"
      ]
     },
     "execution_count": 1,
     "metadata": {},
     "output_type": "execute_result"
    }
   ],
   "source": [
    "# This a simple arithmetic expression to mutiply then add integers\n",
    "(3*4)+5"
   ]
  },
  {
   "cell_type": "code",
   "execution_count": 2,
   "id": "4890bc71-8f84-4477-b186-f11dead382ee",
   "metadata": {},
   "outputs": [
    {
     "data": {
      "text/plain": [
       "3.3333333333333335"
      ]
     },
     "execution_count": 2,
     "metadata": {},
     "output_type": "execute_result"
    }
   ],
   "source": [
    "# This will convert 200 minutes to hours by diving by 60.\n",
    "(200/60)"
   ]
  },
  {
   "cell_type": "markdown",
   "id": "bb205a78-d8a3-4b9d-8792-7aff14ef544e",
   "metadata": {},
   "source": [
    "<h2>Author</h2>\n",
    "<p>Alex R. Catalán Carrasco</p>"
   ]
  }
 ],
 "metadata": {
  "kernelspec": {
   "display_name": "Python 3 (ipykernel)",
   "language": "python",
   "name": "python3"
  },
  "language_info": {
   "codemirror_mode": {
    "name": "ipython",
    "version": 3
   },
   "file_extension": ".py",
   "mimetype": "text/x-python",
   "name": "python",
   "nbconvert_exporter": "python",
   "pygments_lexer": "ipython3",
   "version": "3.11.9"
  }
 },
 "nbformat": 4,
 "nbformat_minor": 5
}
